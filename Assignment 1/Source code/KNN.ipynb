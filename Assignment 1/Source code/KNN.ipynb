{
 "cells": [
  {
   "cell_type": "code",
   "execution_count": 1,
   "id": "3631389f-9a70-44c9-9ff2-d8a13c80dd00",
   "metadata": {},
   "outputs": [
    {
     "name": "stderr",
     "output_type": "stream",
     "text": [
      "[nltk_data] Downloading package stopwords to\n",
      "[nltk_data]     /Users/adelalkhamisy/nltk_data...\n",
      "[nltk_data]   Package stopwords is already up-to-date!\n"
     ]
    }
   ],
   "source": [
    "import numpy as np\n",
    "import matplotlib.pyplot as plt\n",
    "import pandas as pd\n",
    "import re\n",
    "import nltk\n",
    "from sklearn.metrics import accuracy_score \n",
    "nltk.download('stopwords')\n",
    "from nltk.corpus import stopwords\n",
    "from nltk.stem.porter import PorterStemmer\n",
    "from sklearn.feature_extraction.text import TfidfVectorizer\n",
    "from sklearn.model_selection import train_test_split\n",
    "from scipy import spatial\n",
    "from sklearn.metrics.pairwise import cosine_similarity\n",
    "from sklearn.metrics.pairwise import linear_kernel\n",
    "from sklearn.model_selection import train_test_split\n",
    "from sklearn.model_selection import KFold"
   ]
  },
  {
   "cell_type": "code",
   "execution_count": 2,
   "id": "03757062-60ed-4445-9360-d0eb311a7905",
   "metadata": {},
   "outputs": [
    {
     "name": "stderr",
     "output_type": "stream",
     "text": [
      "/Users/adelalkhamisy/opt/anaconda3/lib/python3.9/site-packages/IPython/core/interactiveshell.py:3444: FutureWarning: The error_bad_lines argument has been deprecated and will be removed in a future version.\n",
      "\n",
      "\n",
      "  exec(code_obj, self.user_global_ns, self.user_ns)\n"
     ]
    }
   ],
   "source": [
    "# create a dataframe with two columns \"Rate\" and \"Comment\" to make the preprocessing easy\n",
    "reviewTrain = pd.read_csv(\"train_file.txt\", sep='\\t',header=None,names=['Rate','Comment'], skip_blank_lines=True, dtype = str, na_filter=False,infer_datetime_format=True, error_bad_lines=False)"
   ]
  },
  {
   "cell_type": "code",
   "execution_count": 3,
   "id": "de24d186-b94f-41a3-aee0-c6927eef19b2",
   "metadata": {},
   "outputs": [
    {
     "data": {
      "text/html": [
       "<div>\n",
       "<style scoped>\n",
       "    .dataframe tbody tr th:only-of-type {\n",
       "        vertical-align: middle;\n",
       "    }\n",
       "\n",
       "    .dataframe tbody tr th {\n",
       "        vertical-align: top;\n",
       "    }\n",
       "\n",
       "    .dataframe thead th {\n",
       "        text-align: right;\n",
       "    }\n",
       "</style>\n",
       "<table border=\"1\" class=\"dataframe\">\n",
       "  <thead>\n",
       "    <tr style=\"text-align: right;\">\n",
       "      <th></th>\n",
       "      <th>Rate</th>\n",
       "      <th>Comment</th>\n",
       "    </tr>\n",
       "  </thead>\n",
       "  <tbody>\n",
       "    <tr>\n",
       "      <th>0</th>\n",
       "      <td>-1</td>\n",
       "      <td>German filmmaker Ulli Lommel has managed a tas...</td>\n",
       "    </tr>\n",
       "    <tr>\n",
       "      <th>1</th>\n",
       "      <td>+1</td>\n",
       "      <td>It is an excellent thriller from Turkey which ...</td>\n",
       "    </tr>\n",
       "    <tr>\n",
       "      <th>2</th>\n",
       "      <td>+1</td>\n",
       "      <td>Finally, the uncut version of \"Baby Face\" surf...</td>\n",
       "    </tr>\n",
       "    <tr>\n",
       "      <th>3</th>\n",
       "      <td>+1</td>\n",
       "      <td>In this glorious telling of a weekend shared a...</td>\n",
       "    </tr>\n",
       "    <tr>\n",
       "      <th>4</th>\n",
       "      <td>+1</td>\n",
       "      <td>Dog Bite Dog isn't going to be for everyone, b...</td>\n",
       "    </tr>\n",
       "  </tbody>\n",
       "</table>\n",
       "</div>"
      ],
      "text/plain": [
       "  Rate                                            Comment\n",
       "0   -1  German filmmaker Ulli Lommel has managed a tas...\n",
       "1   +1  It is an excellent thriller from Turkey which ...\n",
       "2   +1  Finally, the uncut version of \"Baby Face\" surf...\n",
       "3   +1  In this glorious telling of a weekend shared a...\n",
       "4   +1  Dog Bite Dog isn't going to be for everyone, b..."
      ]
     },
     "execution_count": 3,
     "metadata": {},
     "output_type": "execute_result"
    }
   ],
   "source": [
    "reviewTrain.head()"
   ]
  },
  {
   "cell_type": "code",
   "execution_count": 4,
   "id": "d0cdff4c-5770-4821-b6f2-839fb009e935",
   "metadata": {},
   "outputs": [
    {
     "name": "stderr",
     "output_type": "stream",
     "text": [
      "/Users/adelalkhamisy/opt/anaconda3/lib/python3.9/site-packages/IPython/core/interactiveshell.py:3444: FutureWarning: The error_bad_lines argument has been deprecated and will be removed in a future version.\n",
      "\n",
      "\n",
      "  exec(code_obj, self.user_global_ns, self.user_ns)\n"
     ]
    }
   ],
   "source": [
    "reviewTest = pd.read_csv(\"test_file.txt\", sep='\\t',header=None,names=['Comment'], skip_blank_lines=True, dtype = str, na_filter=False,infer_datetime_format=True, error_bad_lines=False)"
   ]
  },
  {
   "cell_type": "code",
   "execution_count": 5,
   "id": "d5af74e8-08b7-4fe3-8a15-6f3256ba1051",
   "metadata": {},
   "outputs": [],
   "source": [
    "\"\"\"\n",
    "Function: preProcessing(corpus): \n",
    "It does many necessary preprocessing to data as follow:\n",
    "1. delete anything that does not belong to [a-z] or [A-Z] from the data\n",
    "2. transfer all characters to lower case\n",
    "3. remove all stop words from the data except the word \"not\" because it is necessary information\n",
    "4. apply stemming to data\n",
    "\n",
    "Parameter: dataframe of reviewDataset \n",
    "return: list of preprocessed corpus of reviewDataset according to the above 4 steps\n",
    "\"\"\"\n",
    "def preProcessing(reviewDataset):\n",
    "        preprocessedCorpus = []\n",
    "        # iterate over ratring in datafame\n",
    "        for i in range(len(reviewDataset)):\n",
    "            #delete all symbols except a-z and A-Z in the Comment column\n",
    "            comment = re.sub('[^a-zA-Z]', ' ', reviewDataset['Comment'][i])\n",
    "            comment = comment.lower()\n",
    "            comment = comment.split()\n",
    "            porterstemmer = PorterStemmer() \n",
    "            sw = stopwords.words('english')\n",
    "            #exclude not from stop word set\n",
    "            sw.remove('not')\n",
    "            # apply stemming to words in comment \n",
    "            comment = [porterstemmer.stem(word) for word in comment if not word in set(sw)]\n",
    "            #join the words \n",
    "            comment = ' '.join(comment)\n",
    "            #add train data to corpus\n",
    "            preprocessedCorpus.append(comment)\n",
    "        return preprocessedCorpus"
   ]
  },
  {
   "cell_type": "code",
   "execution_count": 6,
   "id": "bbe135b7-b92e-4c87-b2f5-0b75764bc538",
   "metadata": {
    "tags": []
   },
   "outputs": [],
   "source": [
    "#preprocess data\n",
    "sentiment = reviewTrain.iloc[:,0].values\n",
    "preprocessedReviewTrain = preProcessing(reviewTrain)\n",
    "preprocessedReviewTest = preProcessing(reviewTest)"
   ]
  },
  {
   "cell_type": "code",
   "execution_count": 7,
   "id": "afa7e09b-475d-426d-89c6-44b6f49aefad",
   "metadata": {
    "tags": []
   },
   "outputs": [],
   "source": [
    "# create spase matrix using Tf-idf vectorizer for training and testing data\n",
    "v = TfidfVectorizer(ngram_range=(2,5), max_features=30000)\n",
    "tfidfTrain = v.fit_transform(preprocessedReviewTrain)\n",
    "tfidfTest = v.transform(preprocessedReviewTest)"
   ]
  },
  {
   "cell_type": "code",
   "execution_count": 8,
   "id": "174225b3-ae38-4490-bd50-74309db02ace",
   "metadata": {},
   "outputs": [],
   "source": [
    "def knn(k, testTfidf, trainTfidf, x_test, y_train):\n",
    "    prediction = []    \n",
    "    for i, l in enumerate(x_test):\n",
    "        # calculate cosine similarity with the help of cosine_similarity in sklearn \n",
    "        cs = cosine_similarity(tfidfTest[i], tfidfTrain).flatten()\n",
    "        # utilizing numpy.argsort to find the K neighbors indices      \n",
    "        nearestNeighborIndices = cs.argsort()[:-k:-1]\n",
    "        #get the list of k nearest neighbor  from the sentiment  \n",
    "        nearestNeighborList = y_train[nearestNeighborIndices]\n",
    "        \n",
    "        # convert nearestNeighborList from string type to int type\n",
    "        integer_map=map(int, nearestNeighborList)\n",
    "        nearestNeighborList = list(integer_map)\n",
    "        \n",
    "        ''' if sum of the nearestNeighborList is >0, then this mean that the +1 class is the majority \n",
    "        if the sum is zero, then the positive and negative are equal, but the program will classify it as positive\n",
    "        if the the sum is negative, then the majority of the neighbors are \"-1\" \n",
    "        '''\n",
    "        decision = sum(nearestNeighborList)\n",
    "        \n",
    "        if decision >= 0:\n",
    "          prediction.append(\"+1\")\n",
    "        else:\n",
    "          prediction.append(\"-1\")\n",
    "            \n",
    "    return pd.DataFrame(prediction)"
   ]
  },
  {
   "cell_type": "code",
   "execution_count": 11,
   "id": "ce56c412-6228-4502-ba68-6574bb2195bb",
   "metadata": {},
   "outputs": [],
   "source": [
    "submission=knn(236,tfidfTest, tfidfTrain, preprocessedReviewTest, sentiment) "
   ]
  },
  {
   "cell_type": "code",
   "execution_count": 12,
   "id": "5d10edcb-ae14-47e1-bcec-025093930598",
   "metadata": {},
   "outputs": [],
   "source": [
    "np.savetxt('./submission.txt', submission,fmt='%s')"
   ]
  },
  {
   "cell_type": "code",
   "execution_count": null,
   "id": "aeab2de7-0e8c-4eaa-827a-92633c7dc22c",
   "metadata": {},
   "outputs": [],
   "source": []
  }
 ],
 "metadata": {
  "kernelspec": {
   "display_name": "Python 3 (ipykernel)",
   "language": "python",
   "name": "python3"
  },
  "language_info": {
   "codemirror_mode": {
    "name": "ipython",
    "version": 3
   },
   "file_extension": ".py",
   "mimetype": "text/x-python",
   "name": "python",
   "nbconvert_exporter": "python",
   "pygments_lexer": "ipython3",
   "version": "3.9.7"
  }
 },
 "nbformat": 4,
 "nbformat_minor": 5
}
