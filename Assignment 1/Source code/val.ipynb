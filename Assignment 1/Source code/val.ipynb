{
 "cells": [
  {
   "cell_type": "code",
   "execution_count": 1,
   "id": "3631389f-9a70-44c9-9ff2-d8a13c80dd00",
   "metadata": {},
   "outputs": [
    {
     "name": "stderr",
     "output_type": "stream",
     "text": [
      "[nltk_data] Downloading package stopwords to\n",
      "[nltk_data]     /Users/adelalkhamisy/nltk_data...\n",
      "[nltk_data]   Package stopwords is already up-to-date!\n"
     ]
    }
   ],
   "source": [
    "import numpy as np\n",
    "import matplotlib.pyplot as plt\n",
    "import pandas as pd\n",
    "import re\n",
    "import nltk\n",
    "from sklearn.metrics import accuracy_score \n",
    "nltk.download('stopwords')\n",
    "from nltk.corpus import stopwords\n",
    "from nltk.stem.porter import PorterStemmer\n",
    "from sklearn.feature_extraction.text import TfidfVectorizer\n",
    "from sklearn.model_selection import train_test_split\n",
    "from scipy import spatial\n",
    "from sklearn.metrics.pairwise import cosine_similarity\n",
    "from sklearn.metrics.pairwise import linear_kernel\n",
    "from sklearn.model_selection import train_test_split\n",
    "from sklearn.model_selection import KFold"
   ]
  },
  {
   "cell_type": "code",
   "execution_count": 2,
   "id": "03757062-60ed-4445-9360-d0eb311a7905",
   "metadata": {},
   "outputs": [
    {
     "name": "stderr",
     "output_type": "stream",
     "text": [
      "/Users/adelalkhamisy/opt/anaconda3/lib/python3.9/site-packages/IPython/core/interactiveshell.py:3444: FutureWarning: The error_bad_lines argument has been deprecated and will be removed in a future version.\n",
      "\n",
      "\n",
      "  exec(code_obj, self.user_global_ns, self.user_ns)\n"
     ]
    }
   ],
   "source": [
    "# create a dataframe with two columns \"Rate\" and \"Comment\" to make the preprocessing easy\n",
    "reviewTrain = pd.read_csv(\"train_file.txt\", sep='\\t',header=None,names=['Rate','Comment'], skip_blank_lines=True, dtype = str, na_filter=False,infer_datetime_format=True, error_bad_lines=False)"
   ]
  },
  {
   "cell_type": "code",
   "execution_count": 3,
   "id": "de24d186-b94f-41a3-aee0-c6927eef19b2",
   "metadata": {},
   "outputs": [
    {
     "data": {
      "text/html": [
       "<div>\n",
       "<style scoped>\n",
       "    .dataframe tbody tr th:only-of-type {\n",
       "        vertical-align: middle;\n",
       "    }\n",
       "\n",
       "    .dataframe tbody tr th {\n",
       "        vertical-align: top;\n",
       "    }\n",
       "\n",
       "    .dataframe thead th {\n",
       "        text-align: right;\n",
       "    }\n",
       "</style>\n",
       "<table border=\"1\" class=\"dataframe\">\n",
       "  <thead>\n",
       "    <tr style=\"text-align: right;\">\n",
       "      <th></th>\n",
       "      <th>Rate</th>\n",
       "      <th>Comment</th>\n",
       "    </tr>\n",
       "  </thead>\n",
       "  <tbody>\n",
       "    <tr>\n",
       "      <th>0</th>\n",
       "      <td>-1</td>\n",
       "      <td>German filmmaker Ulli Lommel has managed a tas...</td>\n",
       "    </tr>\n",
       "    <tr>\n",
       "      <th>1</th>\n",
       "      <td>+1</td>\n",
       "      <td>It is an excellent thriller from Turkey which ...</td>\n",
       "    </tr>\n",
       "    <tr>\n",
       "      <th>2</th>\n",
       "      <td>+1</td>\n",
       "      <td>Finally, the uncut version of \"Baby Face\" surf...</td>\n",
       "    </tr>\n",
       "    <tr>\n",
       "      <th>3</th>\n",
       "      <td>+1</td>\n",
       "      <td>In this glorious telling of a weekend shared a...</td>\n",
       "    </tr>\n",
       "    <tr>\n",
       "      <th>4</th>\n",
       "      <td>+1</td>\n",
       "      <td>Dog Bite Dog isn't going to be for everyone, b...</td>\n",
       "    </tr>\n",
       "  </tbody>\n",
       "</table>\n",
       "</div>"
      ],
      "text/plain": [
       "  Rate                                            Comment\n",
       "0   -1  German filmmaker Ulli Lommel has managed a tas...\n",
       "1   +1  It is an excellent thriller from Turkey which ...\n",
       "2   +1  Finally, the uncut version of \"Baby Face\" surf...\n",
       "3   +1  In this glorious telling of a weekend shared a...\n",
       "4   +1  Dog Bite Dog isn't going to be for everyone, b..."
      ]
     },
     "execution_count": 3,
     "metadata": {},
     "output_type": "execute_result"
    }
   ],
   "source": [
    "reviewTrain.head()"
   ]
  },
  {
   "cell_type": "code",
   "execution_count": 4,
   "id": "d0cdff4c-5770-4821-b6f2-839fb009e935",
   "metadata": {},
   "outputs": [
    {
     "name": "stderr",
     "output_type": "stream",
     "text": [
      "/Users/adelalkhamisy/opt/anaconda3/lib/python3.9/site-packages/IPython/core/interactiveshell.py:3444: FutureWarning: The error_bad_lines argument has been deprecated and will be removed in a future version.\n",
      "\n",
      "\n",
      "  exec(code_obj, self.user_global_ns, self.user_ns)\n"
     ]
    }
   ],
   "source": [
    "reviewTest = pd.read_csv(\"test_file.txt\", sep='\\t',header=None,names=['Comment'], skip_blank_lines=True, dtype = str, na_filter=False,infer_datetime_format=True, error_bad_lines=False)"
   ]
  },
  {
   "cell_type": "code",
   "execution_count": 5,
   "id": "d5af74e8-08b7-4fe3-8a15-6f3256ba1051",
   "metadata": {},
   "outputs": [],
   "source": [
    "\"\"\"\n",
    "Function: preProcessing(corpus): \n",
    "It does many necessary preprocessing to data as follow:\n",
    "1. delete anything that does not belong to [a-z] or [A-Z] from the data\n",
    "2. transfer all characters to lower case\n",
    "3. remove all stop words from the data except the word \"not\" because it is necessary information\n",
    "4. apply stemming to data\n",
    "\n",
    "Parameter: dataframe of reviewDataset \n",
    "return: list of preprocessed corpus of reviewDataset according to the above 4 steps\n",
    "\"\"\"\n",
    "def preProcessing(reviewDataset):\n",
    "        preprocessedCorpus = []\n",
    "        # iterate over ratring in datafame\n",
    "        for i in range(len(reviewDataset)):\n",
    "            #delete all symbols except a-z and A-Z in the Comment column\n",
    "            comment = re.sub('[^a-zA-Z]', ' ', reviewDataset['Comment'][i])\n",
    "            comment = comment.lower()\n",
    "            comment = comment.split()\n",
    "            porterstemmer = PorterStemmer() \n",
    "            sw = stopwords.words('english')\n",
    "            #exclude not from stop word set\n",
    "            sw.remove('not')\n",
    "            # apply stemming to words in comment \n",
    "            comment = [porterstemmer.stem(word) for word in comment if not word in set(sw)]\n",
    "            #join the words \n",
    "            comment = ' '.join(comment)\n",
    "            #add train data to corpus\n",
    "            preprocessedCorpus.append(comment)\n",
    "        return preprocessedCorpus"
   ]
  },
  {
   "cell_type": "code",
   "execution_count": 6,
   "id": "bbe135b7-b92e-4c87-b2f5-0b75764bc538",
   "metadata": {
    "tags": []
   },
   "outputs": [],
   "source": [
    "#preprocess data\n",
    "sentiment = reviewTrain.iloc[:,0].values\n",
    "preprocessedReviewTrain = preProcessing(reviewTrain)\n",
    "preprocessedReviewTest = preProcessing(reviewTest)"
   ]
  },
  {
   "cell_type": "code",
   "execution_count": 7,
   "id": "174225b3-ae38-4490-bd50-74309db02ace",
   "metadata": {},
   "outputs": [],
   "source": [
    "def knn(k, testTfidf, trainTfidf, x_test, y_train):\n",
    "    prediction = []    \n",
    "    for i, l in enumerate(x_test):\n",
    "        # calculate cosine similarity with the help of cosine_similarity in sklearn \n",
    "        cs = cosine_similarity(tfidfTest[i], tfidfTrain).flatten()\n",
    "        # utilizing numpy.argsort to find the K neighbors indices      \n",
    "        nearestNeighborIndices = cs.argsort()[:-k:-1]\n",
    "        #get the list of k nearest neighbor  from the sentiment  \n",
    "        nearestNeighborList = y_train[nearestNeighborIndices]\n",
    "        \n",
    "        # convert nearestNeighborList from string type to int type\n",
    "        integer_map=map(int, nearestNeighborList)\n",
    "        nearestNeighborList = list(integer_map)\n",
    "        \n",
    "        ''' if sum of the nearestNeighborList is >0, then this mean that the +1 class is the majority \n",
    "        if the sum is zero, then the positive and negative are equal, but the program will classify it as positive\n",
    "        if the the sum is negative, then the majority of the neighbors are \"-1\" \n",
    "        '''\n",
    "        decision = sum(nearestNeighborList)\n",
    "        \n",
    "        if decision >= 0:\n",
    "          prediction.append(\"+1\")\n",
    "        else:\n",
    "          prediction.append(\"-1\")\n",
    "            \n",
    "    return pd.DataFrame(prediction)"
   ]
  },
  {
   "cell_type": "code",
   "execution_count": 8,
   "id": "d05d0f90-b5d8-4154-8c8d-5de2c7789b7b",
   "metadata": {},
   "outputs": [],
   "source": [
    "Kfold = KFold(n_splits=10)\n",
    "for itrain, itest in Kfold.split(preprocessedReviewTrain):\n",
    "   x_train, x_test = preprocessedReviewTrain[itrain[0]:itrain[-1]], preprocessedReviewTrain[itest[0]:itest[-1]]\n",
    "   y_train, y_test = sentiment[itrain[0]:itrain[-1]], sentiment[itest[0]:itest[-1]]"
   ]
  },
  {
   "cell_type": "code",
   "execution_count": 9,
   "id": "98cd5105-f8c7-4da0-b10c-391af1b2a198",
   "metadata": {},
   "outputs": [],
   "source": [
    "# create spase matrix using Tf-idf vectorizer for training and testing data\n",
    "v = TfidfVectorizer(ngram_range=(2,5), max_features=30000)\n",
    "tfidfTrain = v.fit_transform(x_train)\n",
    "tfidfTest = v.transform(x_test)"
   ]
  },
  {
   "cell_type": "code",
   "execution_count": 10,
   "id": "7c216a21-839a-44fc-b71e-be40f37d1e63",
   "metadata": {},
   "outputs": [
    {
     "name": "stdout",
     "output_type": "stream",
     "text": [
      "1\n",
      "1 0.4783188792528352\n",
      "6\n",
      "6 0.7058038692461641\n",
      "11\n",
      "11 0.7284856571047365\n",
      "16\n",
      "16 0.7531687791861241\n",
      "21\n",
      "21 0.7531687791861241\n",
      "26\n",
      "26 0.7671781187458305\n",
      "31\n",
      "31 0.7658438959306204\n",
      "36\n",
      "36 0.7725150100066711\n",
      "41\n",
      "41 0.7745163442294863\n",
      "46\n",
      "46 0.7751834556370913\n",
      "51\n",
      "51 0.7778519012675117\n",
      "56\n",
      "56 0.7791861240827218\n",
      "61\n",
      "61 0.7645096731154103\n",
      "66\n",
      "66 0.7671781187458305\n",
      "71\n",
      "71 0.7705136757838559\n",
      "76\n",
      "76 0.7785190126751167\n",
      "81\n",
      "81 0.781187458305537\n",
      "86\n",
      "86 0.7805203468979319\n",
      "91\n",
      "91 0.7791861240827218\n",
      "96\n",
      "96 0.7758505670446965\n",
      "101\n",
      "101 0.7858572381587725\n",
      "106\n",
      "106 0.7798532354903269\n",
      "111\n",
      "111 0.781187458305537\n",
      "116\n",
      "116 0.7791861240827218\n",
      "121\n",
      "121 0.781854569713142\n",
      "126\n",
      "126 0.7825216811207472\n",
      "131\n",
      "131 0.7925283522348232\n",
      "136\n",
      "136 0.7885256837891927\n",
      "141\n",
      "141 0.7938625750500333\n",
      "146\n",
      "146 0.7938625750500333\n",
      "151\n",
      "151 0.7911941294196131\n",
      "156\n",
      "156 0.7918612408272181\n",
      "161\n",
      "161 0.7911941294196131\n",
      "166\n",
      "166 0.7911941294196131\n",
      "171\n",
      "171 0.789859906604403\n",
      "176\n",
      "176 0.7851901267511674\n",
      "181\n",
      "181 0.7858572381587725\n",
      "186\n",
      "186 0.790527018012008\n",
      "191\n",
      "191 0.7951967978652434\n",
      "196\n",
      "196 0.790527018012008\n",
      "201\n",
      "201 0.7918612408272181\n",
      "206\n",
      "206 0.7845230153435624\n",
      "211\n",
      "211 0.7938625750500333\n",
      "216\n",
      "216 0.790527018012008\n",
      "221\n",
      "221 0.7945296864576384\n",
      "226\n",
      "226 0.7931954636424283\n",
      "231\n",
      "231 0.7931954636424283\n",
      "236\n",
      "236 0.7965310206804537\n",
      "241\n",
      "241 0.7945296864576384\n",
      "246\n",
      "246 0.7938625750500333\n",
      "251\n",
      "251 0.7965310206804537\n",
      "256\n",
      "256 0.7925283522348232\n",
      "261\n",
      "261 0.7931954636424283\n",
      "266\n",
      "266 0.789859906604403\n",
      "271\n",
      "271 0.7871914609739826\n",
      "276\n",
      "276 0.7851901267511674\n",
      "281\n",
      "281 0.7911941294196131\n",
      "286\n",
      "286 0.7871914609739826\n",
      "291\n",
      "291 0.7911941294196131\n",
      "296\n",
      "296 0.7885256837891927\n"
     ]
    }
   ],
   "source": [
    "Accuracy = []\n",
    "for i in range(1, 300, 5):\n",
    "  print(i)\n",
    "  y_hat = knn(i,tfidfTest, tfidfTrain, x_test, y_train)    \n",
    "  ac = accuracy_score(y_test, y_hat)\n",
    "  Accuracy.append((i, ac))\n",
    "  print(i, ac)"
   ]
  },
  {
   "cell_type": "code",
   "execution_count": null,
   "id": "dcbcacd4-94dc-4bcd-b19f-58b39e507002",
   "metadata": {},
   "outputs": [],
   "source": []
  }
 ],
 "metadata": {
  "kernelspec": {
   "display_name": "Python 3 (ipykernel)",
   "language": "python",
   "name": "python3"
  },
  "language_info": {
   "codemirror_mode": {
    "name": "ipython",
    "version": 3
   },
   "file_extension": ".py",
   "mimetype": "text/x-python",
   "name": "python",
   "nbconvert_exporter": "python",
   "pygments_lexer": "ipython3",
   "version": "3.9.7"
  }
 },
 "nbformat": 4,
 "nbformat_minor": 5
}
